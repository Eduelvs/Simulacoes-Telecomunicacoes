{
 "cells": [
  {
   "cell_type": "markdown",
   "id": "09b27077",
   "metadata": {},
   "source": [
    "# Experimento 1"
   ]
  },
  {
   "cell_type": "code",
   "execution_count": null,
   "id": "31fd3766",
   "metadata": {
    "vscode": {
     "languageId": "plaintext"
    }
   },
   "outputs": [],
   "source": [
    "import numpy as np\n",
    "import matplotlib.pyplot as plt\n",
    "from scipy.fft import fft, fftshift, fftfreq"
   ]
  },
  {
   "cell_type": "markdown",
   "id": "03dcdcc0",
   "metadata": {},
   "source": [
    "## Definição de parâmetros"
   ]
  },
  {
   "cell_type": "code",
   "execution_count": null,
   "id": "92a5b6a4",
   "metadata": {
    "vscode": {
     "languageId": "plaintext"
    }
   },
   "outputs": [],
   "source": [
    "fs = 5000   # taxa de amostragem (Hz)\n",
    "t_final = 0.15  # tempo de simulação (s)\n",
    "t = np.arange(0, t_final, 1/fs)"
   ]
  },
  {
   "cell_type": "markdown",
   "id": "2c108ada",
   "metadata": {},
   "source": [
    "## Definindo Sinal da Mensagem"
   ]
  },
  {
   "cell_type": "code",
   "execution_count": null,
   "id": "2a8741df",
   "metadata": {
    "vscode": {
     "languageId": "plaintext"
    }
   },
   "outputs": [],
   "source": [
    "fm = 50   # Hz (bem menor que a portadora)\n",
    "Am = 1    # amplitude da mensagem\n",
    "m_t = Am * np.sin(2*np.pi*fm*t)"
   ]
  },
  {
   "cell_type": "markdown",
   "id": "e0e7b5ff",
   "metadata": {},
   "source": [
    "## Definindo Sinal da Portadora"
   ]
  },
  {
   "cell_type": "code",
   "execution_count": null,
   "id": "d4e1cd8a",
   "metadata": {
    "vscode": {
     "languageId": "plaintext"
    }
   },
   "outputs": [],
   "source": [
    "fc = 250   # Hz\n",
    "Ac = 1     # amplitude da portadora\n",
    "c_t = Ac * np.cos(2*np.pi*fc*t)"
   ]
  },
  {
   "cell_type": "code",
   "execution_count": null,
   "id": "c2150955",
   "metadata": {
    "vscode": {
     "languageId": "plaintext"
    }
   },
   "outputs": [],
   "source": [
    "modulation_indexes = [0.3, 0.7, 1.0, 1.4]\n",
    "\n",
    "plt.figure(figsize=(14,8))\n",
    "for i, m in enumerate(modulation_indexes, 1):\n",
    "    s_t = Ac*(1 + m*m_t)*np.cos(2*np.pi*fc*t)  # AM-DSB\n",
    "    plt.subplot(len(modulation_indexes), 1, i)\n",
    "    plt.plot(t, s_t)\n",
    "    plt.title(f\"Sinal Modulado AM-DSB (m = {m})\")\n",
    "    plt.xlabel(\"Tempo [s]\")\n",
    "    plt.ylabel(\"Amplitude\")\n",
    "plt.tight_layout()\n",
    "plt.show()"
   ]
  },
  {
   "cell_type": "markdown",
   "id": "f009e3b6",
   "metadata": {},
   "source": [
    "# Experimento 2"
   ]
  },
  {
   "cell_type": "code",
   "execution_count": null,
   "id": "a1facd0c",
   "metadata": {
    "vscode": {
     "languageId": "plaintext"
    }
   },
   "outputs": [],
   "source": [
    "def plot_fft(signal, fs, title):\n",
    "    N = len(signal)\n",
    "    freq = fftshift(fftfreq(N, 1/fs))\n",
    "    spectrum = np.abs(fftshift(fft(signal)))/N\n",
    "    plt.figure(figsize=(10,4))\n",
    "    plt.plot(freq, spectrum)\n",
    "    plt.title(title)\n",
    "    plt.xlabel(\"Frequência [Hz]\")\n",
    "    plt.ylabel(\"Magnitude\")\n",
    "    plt.xlim(0, 500)  # foco nas frequências até 500 Hz\n",
    "    plt.grid()\n",
    "    plt.show()\n",
    "\n",
    "for m in modulation_indexes:\n",
    "    s_t = Ac*(1 + m*m_t)*np.cos(2*np.pi*fc*t)\n",
    "    plot_fft(s_t, fs, f\"Espectro do Sinal AM-DSB (m={m})\")\n"
   ]
  },
  {
   "cell_type": "markdown",
   "id": "8bb49e06",
   "metadata": {},
   "source": [
    "# Experimento 3"
   ]
  },
  {
   "cell_type": "code",
   "execution_count": null,
   "id": "f6d3768c",
   "metadata": {
    "vscode": {
     "languageId": "plaintext"
    }
   },
   "outputs": [],
   "source": [
    "plt.figure(figsize=(14,8))\n",
    "for i, m in enumerate(modulation_indexes, 1):\n",
    "    s_t = Ac*m*m_t*np.cos(2*np.pi*fc*t)  # AM-DSB-SC (portadora suprimida)\n",
    "    plt.subplot(len(modulation_indexes), 1, i)\n",
    "    plt.plot(t, s_t)\n",
    "    plt.title(f\"Sinal AM-DSB-SC (m = {m})\")\n",
    "    plt.xlabel(\"Tempo [s]\")\n",
    "    plt.ylabel(\"Amplitude\")\n",
    "plt.tight_layout()\n",
    "plt.show()\n",
    "\n",
    "for m in modulation_indexes:\n",
    "    s_t = Ac*m*m_t*np.cos(2*np.pi*fc*t)\n",
    "    plot_fft(s_t, fs, f\"Espectro do Sinal AM-DSB-SC (m={m})\")"
   ]
  }
 ],
 "metadata": {
  "language_info": {
   "name": "python"
  }
 },
 "nbformat": 4,
 "nbformat_minor": 5
}
